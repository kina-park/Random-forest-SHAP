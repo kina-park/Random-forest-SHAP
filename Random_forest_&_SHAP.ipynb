{
  "cells": [
    {
      "cell_type": "code",
      "execution_count": null,
      "metadata": {
        "id": "e0WcT6XMQztX"
      },
      "outputs": [],
      "source": [
        "import pandas as pd\n",
        "from sklearn import datasets\n",
        "import seaborn as sns\n",
        "import matplotlib.pyplot as plt\n",
        "import statsmodels.api as sm\n",
        "import statsmodels.formula.api as smf\n",
        "!pip install linearmodels\n",
        "import linearmodels.iv.model as lm\n",
        "import warnings\n",
        "warnings.filterwarnings('ignore')\n",
        "!sudo apt-get install -y fonts-nanum\n",
        "!sudo fc-cache -fv\n",
        "!rm ~/.cache/matplotlib -rf"
      ]
    },
    {
      "cell_type": "markdown",
      "metadata": {
        "id": "3GRScwf309pl"
      },
      "source": [
        "### 1. 데이터셋 준비"
      ]
    },
    {
      "cell_type": "code",
      "execution_count": 136,
      "metadata": {
        "id": "bX1qhBa-RO0K"
      },
      "outputs": [],
      "source": [
        "df = pd.read_csv(\"/content/drive/MyDrive/4. 석사논문 작성과정 (2021-2)/★학위논문 데이터/★학위논문 데이터 분석 결과/master_data.csv\")\n",
        "df_dropout = pd.read_csv(\"/content/drive/MyDrive/6. 학위논문 인과추론/SEM_0724.csv\")\n",
        "df = df[['대학몰입1','성별더미','주관적계층의식','코로나학번더미','전공계열','자택더미', '코로나스트레스', '사회적실재감','인지적실재감','교수실재감','교수_학생비대면','교수_학생대면','학생_학생비대면','학생_학생대면','조직커뮤니케이션','LMS지원','비대면서비스지원']]"
      ]
    },
    {
      "cell_type": "code",
      "execution_count": null,
      "metadata": {
        "colab": {
          "base_uri": "https://localhost:8080/",
          "height": 305
        },
        "id": "RqEb0S8iAYQD",
        "outputId": "34dc8c6c-ec93-4c06-e506-0a9051077dbd"
      },
      "outputs": [],
      "source": [
        "# 전공계열 더미변수 생성\n",
        "df_dummy = pd.get_dummies(data = df, columns = [\"전공계열\"], drop_first = False)\n",
        "\n",
        "# 데이터셋 병합\n",
        "df = pd.concat([df_dummy, df_dropout[[\"Q25A1\", \"Q25A3\"]]], axis=1)\n",
        "df.rename(columns={\"Q25A1\":\"전출\", \"Q25A3\":\"자퇴\", \"대학몰입1\":\"대학몰입\"}, inplace=True)\n",
        "df.head()"
      ]
    },
    {
      "cell_type": "code",
      "execution_count": null,
      "metadata": {
        "colab": {
          "base_uri": "https://localhost:8080/",
          "height": 236
        },
        "id": "tRzAXPTIfhDY",
        "outputId": "6c50744a-2c2e-431a-a806-447ca9c68c54"
      },
      "outputs": [],
      "source": [
        "display(df[\"전출\"].value_counts())\n",
        "display(df[\"자퇴\"].value_counts())"
      ]
    },
    {
      "cell_type": "code",
      "execution_count": null,
      "metadata": {
        "colab": {
          "base_uri": "https://localhost:8080/",
          "height": 163
        },
        "id": "lNyG77ZOfz17",
        "outputId": "a4b95f6a-4287-4952-d424-6552baa5f51a"
      },
      "outputs": [],
      "source": [
        "# 데이터 타겟이 될 변수 클래스 재설정\n",
        "\n",
        "for var in [\"전출\", \"자퇴\"]:\n",
        "  df.loc[(df[var] <= 2), var] = -1\n",
        "  df.loc[(df[var] == 3), var] = 0\n",
        "  df.loc[(df[var] >= 4), var] = 1\n",
        "\n",
        "display(df[\"전출\"].value_counts())\n",
        "display(df[\"자퇴\"].value_counts())"
      ]
    },
    {
      "cell_type": "markdown",
      "metadata": {
        "id": "Z5nzNIaY1zjh"
      },
      "source": [
        "### 3. 데이터 탐색 및 전처리"
      ]
    },
    {
      "cell_type": "code",
      "execution_count": null,
      "metadata": {
        "colab": {
          "base_uri": "https://localhost:8080/",
          "height": 1000
        },
        "id": "s-kLaleh16pc",
        "outputId": "70752170-deb9-44df-dc08-11765f8c2d70"
      },
      "outputs": [],
      "source": [
        "# 변수별 분포 확인\n",
        "plt.rc('font', family='NanumBarunGothic')\n",
        "\n",
        "fig, ax = plt.subplots(ncols=4, nrows=6, figsize=(24, 36))\n",
        "columns = df.columns.to_list()\n",
        "count = 0\n",
        "\n",
        "for row in range(6):\n",
        "  for col in range(4):\n",
        "    sns.kdeplot(data=df[columns[count]], ax=ax[row][col])\n",
        "    ax[row][col].set_title(columns[count])\n",
        "    count += 1\n",
        "    if count == len(columns):\n",
        "      break"
      ]
    },
    {
      "cell_type": "markdown",
      "metadata": {
        "id": "yA_Kjt6-FhPY"
      },
      "source": [
        "### 4. 학습"
      ]
    },
    {
      "cell_type": "code",
      "execution_count": 63,
      "metadata": {
        "id": "xbo3XvBQg5rk"
      },
      "outputs": [],
      "source": [
        "import numpy as np\n",
        "from sklearn.model_selection import train_test_split\n",
        "from sklearn.ensemble import RandomForestRegressor\n",
        "from sklearn.ensemble import RandomForestClassifier\n",
        "from sklearn.metrics import mean_squared_error\n",
        "from sklearn.metrics import accuracy_score"
      ]
    },
    {
      "cell_type": "code",
      "execution_count": 139,
      "metadata": {
        "id": "qa-hzJXwhCwQ"
      },
      "outputs": [],
      "source": [
        "features = df.drop(columns= [\"전출\", \"자퇴\", \"대학몰입\"], axis=1)\n",
        "target = df[\"자퇴\"]"
      ]
    },
    {
      "cell_type": "code",
      "execution_count": 140,
      "metadata": {
        "id": "l_fn1zfyhJaI"
      },
      "outputs": [],
      "source": [
        "# 데이터셋 분리\n",
        "random_seed = 42\n",
        "x_train, x_test, y_train, y_test = train_test_split(features, target, test_size=0.3, shuffle=True, random_state=random_seed)"
      ]
    },
    {
      "cell_type": "code",
      "execution_count": 141,
      "metadata": {
        "colab": {
          "base_uri": "https://localhost:8080/"
        },
        "id": "Me93Mx1XjUW6",
        "outputId": "6fb119d2-2d31-46b8-ad16-cd93cc12bcbb"
      },
      "outputs": [
        {
          "name": "stdout",
          "output_type": "stream",
          "text": [
            "예측 정확도: 0.9027237354085603\n"
          ]
        }
      ],
      "source": [
        "# 학습\n",
        "classifier = RandomForestClassifier(random_state=random_seed)\n",
        "classifier.fit(x_train, y_train)\n",
        "y_pred = classifier.predict(x_test)\n",
        "print(f\"예측 정확도: {accuracy_score(y_test, y_pred)}\")"
      ]
    },
    {
      "cell_type": "markdown",
      "metadata": {
        "id": "Gvp1mvCIFqkv"
      },
      "source": [
        "### 5. 교차 검증 (2가지 방법)"
      ]
    },
    {
      "cell_type": "code",
      "execution_count": null,
      "metadata": {
        "colab": {
          "base_uri": "https://localhost:8080/"
        },
        "id": "PW2y-IIYtUPy",
        "outputId": "3ae86293-5a0f-46d0-9497-62a739c80208"
      },
      "outputs": [],
      "source": [
        "from sklearn.model_selection import StratifiedKFold\n",
        "\n",
        "classifier = RandomForestClassifier(random_state=random_seed)\n",
        "skfold = StratifiedKFold(n_splits=5)\n",
        "\n",
        "n_iter = 0\n",
        "cv_accuracy = []\n",
        "\n",
        "for train_idx, test_idx in skfold.split(features, target):\n",
        "  x_train, x_test = features.values[train_idx], features.values[test_idx]\n",
        "  y_train, y_test = target.values[train_idx], target.values[test_idx]\n",
        "  classifier.fit(x_train, y_train)\n",
        "  pred = classifier.predict(x_test)\n",
        "\n",
        "  n_iter += 1\n",
        "  accuracy = np.round(accuracy_score(y_test, pred), 4)\n",
        "  train_size = x_train.shape[0]\n",
        "  test_size = x_test.shape[0]\n",
        "  print(f\"n_iter: {n_iter}교차 검증 정확도: {accuracy}, 학습데이터 크기: {train_size}, 검증데이터 크기: {test_size} \")\n",
        "  print(f\"검증 세트 인덱스: {test_idx}\")\n",
        "  cv_accuracy.append(accuracy)\n",
        "\n",
        "print(f\"교차 검증별 정확도: {np.round(cv_accuracy, 4)}\")\n",
        "print(f\"평균 검증 정확도: {np.round(np.mean(cv_accuracy), 4)}\")"
      ]
    },
    {
      "cell_type": "code",
      "execution_count": 94,
      "metadata": {
        "colab": {
          "base_uri": "https://localhost:8080/"
        },
        "id": "vWvOQjmd26lk",
        "outputId": "bd3382b4-a941-49ac-a19c-fef718928f9a"
      },
      "outputs": [
        {
          "name": "stdout",
          "output_type": "stream",
          "text": [
            "교차 검증별 정확도: [0.9181 0.9123 0.9064 0.9064 0.9118]\n",
            "평균 검증 정확도: 0.911\n"
          ]
        }
      ],
      "source": [
        "from sklearn.model_selection import cross_val_score, cross_validate\n",
        "\n",
        "classifier = RandomForestClassifier(random_state=random_seed)\n",
        "scores = cross_val_score(classifier, data.values, target.values, scoring=\"accuracy\", cv=5)\n",
        "print(f\"교차 검증별 정확도: {np.round(scores, 4)}\")\n",
        "print(f\"평균 검증 정확도: {np.round(np.mean(scores), 4)}\")"
      ]
    },
    {
      "cell_type": "markdown",
      "metadata": {
        "id": "K6kdl5faFuXt"
      },
      "source": [
        "### 6. 그리드 서치"
      ]
    },
    {
      "cell_type": "code",
      "execution_count": 124,
      "metadata": {
        "colab": {
          "base_uri": "https://localhost:8080/"
        },
        "id": "SMNE3taS4-bn",
        "outputId": "dd02ab32-eafd-4a4a-c67e-4fcf3344bd1f"
      },
      "outputs": [
        {
          "name": "stdout",
          "output_type": "stream",
          "text": [
            "Fitting 5 folds for each of 216 candidates, totalling 1080 fits\n",
            "최고 평균 정확도 : 0.9196218487394958\n",
            "최고의 파라미터 : {'max_depth': 8, 'max_features': 7, 'min_samples_leaf': 3, 'min_samples_split': 2, 'n_estimators': 100}\n"
          ]
        }
      ],
      "source": [
        "from sklearn.model_selection import GridSearchCV\n",
        "\n",
        "grid = {\n",
        "    'n_estimators' : [100,200],\n",
        "    'max_depth' : [6,8,10,12],\n",
        "    'min_samples_leaf' : [3,5,6],\n",
        "    'min_samples_split' : [2,3,5],\n",
        "    'max_features': [5, 6, 7]\n",
        "}\n",
        "\n",
        "classifier_grid = GridSearchCV(classifier, param_grid = grid, scoring=\"accuracy\", n_jobs=-1, verbose =1)\n",
        "\n",
        "classifier_grid.fit(x_train, y_train)\n",
        "\n",
        "print(\"최고 평균 정확도 : {}\".format(classifier_grid.best_score_))\n",
        "print(\"최고의 파라미터 :\", classifier_grid.best_params_)"
      ]
    },
    {
      "cell_type": "markdown",
      "metadata": {
        "id": "oBgaZDMfGKSd"
      },
      "source": [
        "### 7. 변수 중요도 시각화"
      ]
    },
    {
      "cell_type": "code",
      "execution_count": 126,
      "metadata": {
        "colab": {
          "base_uri": "https://localhost:8080/"
        },
        "id": "3nYZDDdLnA5z",
        "outputId": "bae238c9-8032-4235-f070-c82681391b3f"
      },
      "outputs": [
        {
          "name": "stdout",
          "output_type": "stream",
          "text": [
            "[0.01199787 0.03839136 0.04521561 0.016477   0.05054118 0.06350493\n",
            " 0.13986708 0.07845848 0.06651679 0.14279348 0.07348324 0.05160843\n",
            " 0.05516427 0.10210344 0.04302467 0.00570408 0.00600806 0.00914003\n",
            " 0.        ] \n",
            "\n",
            "교수_학생대면     0.142793\n",
            "인지적실재감      0.139867\n",
            "LMS지원       0.102103\n",
            "교수실재감       0.078458\n",
            "학생_학생비대면    0.073483\n",
            "교수_학생비대면    0.066517\n",
            "사회적실재감      0.063505\n",
            "조직커뮤니케이션    0.055164\n",
            "학생_학생대면     0.051608\n",
            "코로나스트레스     0.050541\n",
            "코로나학번더미     0.045216\n",
            "비대면서비스지원    0.043025\n",
            "주관적계층의식     0.038391\n",
            "자택더미        0.016477\n",
            "성별더미        0.011998\n",
            "전공계열_3      0.009140\n",
            "전공계열_2      0.006008\n",
            "전공계열_1      0.005704\n",
            "전공계열_4      0.000000\n",
            "dtype: float64\n"
          ]
        }
      ],
      "source": [
        "classifier_best_estimator = classifier_grid.best_estimator_\n",
        "print(classifier_best_estimator.feature_importances_, '\\n')\n",
        "\n",
        "# 시리즈로 만들어 인덱스 붙이기\n",
        "ser = pd.Series(classifier_best_estimator.feature_importances_, index=features.columns)\n",
        "\n",
        "# 내림차순 정렬\n",
        "top = ser.sort_values(ascending=False)\n",
        "print(top)"
      ]
    },
    {
      "cell_type": "code",
      "execution_count": null,
      "metadata": {
        "colab": {
          "base_uri": "https://localhost:8080/",
          "height": 544
        },
        "id": "R-vI4UsFnkVz",
        "outputId": "dd90e56b-ac60-4050-fbc7-27edb1976c45"
      },
      "outputs": [],
      "source": [
        "import matplotlib.pyplot as plt\n",
        "import seaborn as sns\n",
        "\n",
        "plt.figure(figsize=(8,6))\n",
        "plt.title('Feature Importances Top 15')\n",
        "sns.barplot(x=top, y=top.index)\n",
        "plt.show()"
      ]
    },
    {
      "cell_type": "code",
      "execution_count": null,
      "metadata": {
        "id": "VauP91gPo4oQ"
      },
      "outputs": [],
      "source": [
        "!pip install shap\n",
        "import shap"
      ]
    },
    {
      "cell_type": "code",
      "execution_count": null,
      "metadata": {
        "colab": {
          "base_uri": "https://localhost:8080/"
        },
        "id": "71yftffBPbE-",
        "outputId": "f20bc0fa-f193-426d-a95d-7977336af707"
      },
      "outputs": [],
      "source": [
        "explainer = shap.TreeExplainer(classifier_best_estimator)\n",
        "shap_values = explainer.shap_values(x_test)\n",
        "rf_resultX = pd.DataFrame(shap_values[1], columns = features.columns.to_list())\n",
        "vals = np.abs(rf_resultX.values).mean(0)\n",
        "shap_importance = pd.DataFrame(list(zip(data.columns, vals)), columns=['col_name', 'feature_importance_vals'])\n",
        "shap_importance.sort_values(by=['feature_importance_vals'], ascending=False, inplace=True)\n",
        "print(shap_importance)"
      ]
    },
    {
      "cell_type": "code",
      "execution_count": null,
      "metadata": {
        "colab": {
          "base_uri": "https://localhost:8080/",
          "height": 917
        },
        "id": "2j8cSIhnC1Xq",
        "outputId": "5eb782b2-d3a1-449c-9a14-9394b289da89"
      },
      "outputs": [],
      "source": [
        "shap.summary_plot(shap_values[1], x_test.values, feature_names = features.columns)"
      ]
    },
    {
      "cell_type": "code",
      "execution_count": null,
      "metadata": {
        "colab": {
          "base_uri": "https://localhost:8080/",
          "height": 917
        },
        "id": "wlMaU_tPqcv-",
        "outputId": "73d0caf0-bf7e-4809-b3aa-7e8158c6c267"
      },
      "outputs": [],
      "source": [
        "shap.summary_plot(shap_values, features, class_names=[\"persistence\", \"neutral\", \"droupout\"])"
      ]
    }
  ],
  "metadata": {
    "colab": {
      "provenance": []
    },
    "kernelspec": {
      "display_name": "Python 3",
      "name": "python3"
    },
    "language_info": {
      "name": "python"
    }
  },
  "nbformat": 4,
  "nbformat_minor": 0
}
